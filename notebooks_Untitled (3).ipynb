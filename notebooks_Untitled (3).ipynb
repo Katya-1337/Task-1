{
  "metadata": {
    "language_info": {
      "codemirror_mode": {
        "name": "python",
        "version": 3
      },
      "file_extension": ".py",
      "mimetype": "text/x-python",
      "name": "python",
      "nbconvert_exporter": "python",
      "pygments_lexer": "ipython3",
      "version": "3.8"
    },
    "kernelspec": {
      "name": "python",
      "display_name": "Python (Pyodide)",
      "language": "python"
    }
  },
  "nbformat_minor": 4,
  "nbformat": 4,
  "cells": [
    {
      "cell_type": "code",
      "source": "На вход подается строка, состоящая из одного числа. Напишите программу, которая удваивает его.",
      "metadata": {},
      "execution_count": null,
      "outputs": []
    },
    {
      "cell_type": "code",
      "source": "number_1 = int(await input())",
      "metadata": {
        "trusted": true
      },
      "execution_count": 53,
      "outputs": [
        {
          "output_type": "stream",
          "name": "stdin",
          "text": " 12\n"
        }
      ]
    },
    {
      "cell_type": "code",
      "source": "print(number_1*2)",
      "metadata": {
        "trusted": true
      },
      "execution_count": 55,
      "outputs": [
        {
          "name": "stdout",
          "text": "24\n",
          "output_type": "stream"
        }
      ]
    },
    {
      "cell_type": "code",
      "source": "Вводится число. Вывести его квадрат.",
      "metadata": {},
      "execution_count": null,
      "outputs": []
    },
    {
      "cell_type": "code",
      "source": "number_2 = int(await input())",
      "metadata": {
        "trusted": true
      },
      "execution_count": 5,
      "outputs": [
        {
          "output_type": "stream",
          "name": "stdin",
          "text": " 23\n"
        }
      ]
    },
    {
      "cell_type": "code",
      "source": "print(number_2**2)",
      "metadata": {
        "trusted": true
      },
      "execution_count": 6,
      "outputs": [
        {
          "name": "stdout",
          "text": "529\n",
          "output_type": "stream"
        }
      ]
    },
    {
      "cell_type": "code",
      "source": "Вводятся часы, минуты и секунды. Вывести, сколько секунд прошло с полуночи.\nВывести, какая часть суток прошла (число от 0 до 1).",
      "metadata": {
        "trusted": true
      },
      "execution_count": null,
      "outputs": []
    },
    {
      "cell_type": "code",
      "source": "hour = int(await input(\"hour:\"))",
      "metadata": {
        "trusted": true
      },
      "execution_count": 9,
      "outputs": [
        {
          "output_type": "stream",
          "name": "stdin",
          "text": "hour: 19\n"
        }
      ]
    },
    {
      "cell_type": "code",
      "source": "minutes = int(await input(\"minutes:\"))",
      "metadata": {
        "trusted": true
      },
      "execution_count": 10,
      "outputs": [
        {
          "output_type": "stream",
          "name": "stdin",
          "text": "minutes: 54\n"
        }
      ]
    },
    {
      "cell_type": "code",
      "source": "seconds = int(await input(\"seconds:\"))\ntotal_seconds = hour*3600+minutes*60+seconds\nprint(\"seconds:\", total_seconds, \"day part:\", total_seconds/(60*60*24))",
      "metadata": {
        "trusted": true
      },
      "execution_count": 11,
      "outputs": [
        {
          "output_type": "stream",
          "name": "stdin",
          "text": "seconds: 12\n"
        }
      ]
    },
    {
      "cell_type": "code",
      "source": "print(\"seconds:\", total_seconds, \"day part:\", round(total_seconds/(60*60*24), 4))",
      "metadata": {
        "trusted": true
      },
      "execution_count": 13,
      "outputs": [
        {
          "name": "stdout",
          "text": "seconds: 71652 day part: 0.8293\n",
          "output_type": "stream"
        }
      ]
    },
    {
      "cell_type": "code",
      "source": "Вводится число. Вывести, оканчивается ли оно на цифру 7, не используя приведение к строке и операции над строками",
      "metadata": {},
      "execution_count": null,
      "outputs": []
    },
    {
      "cell_type": "code",
      "source": "number = int(await input())",
      "metadata": {
        "trusted": true
      },
      "execution_count": 16,
      "outputs": [
        {
          "output_type": "stream",
          "name": "stdin",
          "text": " 1235\n"
        }
      ]
    },
    {
      "cell_type": "code",
      "source": "if number%10==7:\n    print(\"TRUE\")\nelse:\n    print(\"FALSE\")",
      "metadata": {
        "trusted": true
      },
      "execution_count": 17,
      "outputs": [
        {
          "name": "stdout",
          "text": "FALSE\n",
          "output_type": "stream"
        }
      ]
    },
    {
      "cell_type": "code",
      "source": "Вводятся коэффициенты уравнения ax2+bx+c=0. Вывести его корни(не забыть проверить, что a не равно 0)",
      "metadata": {},
      "execution_count": null,
      "outputs": []
    },
    {
      "cell_type": "code",
      "source": "a = int(await input())",
      "metadata": {
        "trusted": true
      },
      "execution_count": 24,
      "outputs": [
        {
          "output_type": "stream",
          "name": "stdin",
          "text": " -4\n"
        }
      ]
    },
    {
      "cell_type": "code",
      "source": "b = int(await input())",
      "metadata": {
        "trusted": true
      },
      "execution_count": 25,
      "outputs": [
        {
          "output_type": "stream",
          "name": "stdin",
          "text": " 28\n"
        }
      ]
    },
    {
      "cell_type": "code",
      "source": "c = int(await input())",
      "metadata": {
        "trusted": true
      },
      "execution_count": 26,
      "outputs": [
        {
          "output_type": "stream",
          "name": "stdin",
          "text": " -49\n"
        }
      ]
    },
    {
      "cell_type": "code",
      "source": "if a != 0:\n    x_1 = (-b+(b**2-4*a*c)**0.5)/(2*a)\n    x_2 = (-b-(b**2-4*a*c)**0.5)/(2*a)\n    if x_1 != x_2:\n        print(round(x_1,4), round(x_2,4))\n    else:\n        print(x_1)\nelse:\n    x = -c/b\n    print(x)",
      "metadata": {
        "trusted": true
      },
      "execution_count": 27,
      "outputs": [
        {
          "name": "stdout",
          "text": "3.5\n",
          "output_type": "stream"
        }
      ]
    },
    {
      "cell_type": "code",
      "source": "Вводятся три числа. Вывести максимум из них.",
      "metadata": {},
      "execution_count": null,
      "outputs": []
    },
    {
      "cell_type": "code",
      "source": "number1 = int(await input())",
      "metadata": {
        "trusted": true
      },
      "execution_count": 28,
      "outputs": [
        {
          "output_type": "stream",
          "name": "stdin",
          "text": " 4\n"
        }
      ]
    },
    {
      "cell_type": "code",
      "source": "number2 = int(await input())",
      "metadata": {
        "trusted": true
      },
      "execution_count": 29,
      "outputs": [
        {
          "output_type": "stream",
          "name": "stdin",
          "text": " 15\n"
        }
      ]
    },
    {
      "cell_type": "code",
      "source": "number3 = int(await input())",
      "metadata": {
        "trusted": true
      },
      "execution_count": 31,
      "outputs": [
        {
          "output_type": "stream",
          "name": "stdin",
          "text": " 5\n"
        }
      ]
    },
    {
      "cell_type": "code",
      "source": "print(max(number1,number2,number3))",
      "metadata": {
        "trusted": true
      },
      "execution_count": 32,
      "outputs": [
        {
          "name": "stdout",
          "text": "15\n",
          "output_type": "stream"
        }
      ]
    },
    {
      "cell_type": "code",
      "source": "Вводится число. Вывести среднее арифметическое (с точностью до двух знаков после запятой) тех чисел в диапазоне от единицы до введённого числа, которые делятся 5 или являются четными.",
      "metadata": {},
      "execution_count": null,
      "outputs": []
    },
    {
      "cell_type": "code",
      "source": "number_3 = int(await input())",
      "metadata": {
        "trusted": true
      },
      "execution_count": 36,
      "outputs": [
        {
          "output_type": "stream",
          "name": "stdin",
          "text": " 25\n"
        }
      ]
    },
    {
      "cell_type": "code",
      "source": "amount = 0\nsum = 0\nfor i in range(1, number_3 + 1):\n    if i % 5 == 0 or i % 2 == 0:\n        amount += 1\n        sum += i\nprint(round(sum/amount, 2))",
      "metadata": {
        "trusted": true
      },
      "execution_count": 37,
      "outputs": [
        {
          "name": "stdout",
          "text": "13.4\n",
          "output_type": "stream"
        }
      ]
    }
  ]
}