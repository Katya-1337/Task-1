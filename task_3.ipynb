{
 "cells": [
  {
   "cell_type": "code",
   "execution_count": null,
   "metadata": {},
   "outputs": [],
   "source": [
    "Вводится вектор. Вывести максимум из его элементов."
   ]
  },
  {
   "cell_type": "code",
   "execution_count": 9,
   "metadata": {},
   "outputs": [
    {
     "name": "stdout",
     "output_type": "stream",
     "text": [
      "75 48 9876\n"
     ]
    }
   ],
   "source": [
    "list_A = map(int, (input(\"numbers\")).split())"
   ]
  },
  {
   "cell_type": "code",
   "execution_count": 10,
   "metadata": {},
   "outputs": [
    {
     "name": "stdout",
     "output_type": "stream",
     "text": [
      "9876\n"
     ]
    }
   ],
   "source": [
    "print(max(list_A))"
   ]
  },
  {
   "cell_type": "code",
   "execution_count": null,
   "metadata": {},
   "outputs": [],
   "source": [
    "Вводится вектор. Заменить в нём каждое число Фибоначчи на следующее."
   ]
  },
  {
   "cell_type": "code",
   "execution_count": 1,
   "metadata": {},
   "outputs": [],
   "source": [
    "def fibonacci(n):\n",
    "    if n in (1, 2):\n",
    "        return 1\n",
    "    return fibonacci(n - 1) + fibonacci(n - 2)"
   ]
  },
  {
   "cell_type": "code",
   "execution_count": 2,
   "metadata": {},
   "outputs": [],
   "source": [
    "array_B = []\n",
    "for i in range(1, 30):\n",
    "    x = fibonacci(i)\n",
    "    array_B.append(int(x))"
   ]
  },
  {
   "cell_type": "code",
   "execution_count": 3,
   "metadata": {},
   "outputs": [
    {
     "name": "stdout",
     "output_type": "stream",
     "text": [
      "1 1 2 3 5 8 13 21 34 55 89 144 233 377 610 987 1597 2584 4181 6765 10946 17711 28657 46368 75025 121393 196418 317811 514229\n"
     ]
    }
   ],
   "source": [
    "print(*array_B)"
   ]
  },
  {
   "cell_type": "code",
   "execution_count": 32,
   "metadata": {},
   "outputs": [
    {
     "name": "stdin",
     "output_type": "stream",
     "text": [
      " 13 4 8 69\n"
     ]
    }
   ],
   "source": [
    "array_C = []\n",
    "numbers = map(int, (input(\"numbers\")).split())\n",
    "array_C.extend(numbers)"
   ]
  },
  {
   "cell_type": "code",
   "execution_count": 33,
   "metadata": {},
   "outputs": [
    {
     "name": "stdout",
     "output_type": "stream",
     "text": [
      "13 4 8 69\n"
     ]
    }
   ],
   "source": [
    "print(*array_C)"
   ]
  },
  {
   "cell_type": "code",
   "execution_count": 34,
   "metadata": {},
   "outputs": [
    {
     "name": "stdout",
     "output_type": "stream",
     "text": [
      "21 4 13 69\n"
     ]
    }
   ],
   "source": [
    "for j in range(len(array_C)):\n",
    "    if array_C[j] in array_B:\n",
    "        for k in range(len(array_B)):\n",
    "            if array_C[j] == array_B[k]:\n",
    "                q = array_B[k+1]\n",
    "                array_C[j] = q\n",
    "                break\n",
    "print(*array_C)"
   ]
  },
  {
   "cell_type": "code",
   "execution_count": null,
   "metadata": {},
   "outputs": [],
   "source": [
    "Напишите программу, которая помогает определить какие вещи могут поместиться в рюкзак. Вводится существующий объем рюкзака. Затем вводятся объемы всех вещей, которые хочется туда поместить. Нужно вывести список объемов вещей, которые поместятся в рюкзак. Постарайтесь максимизировать кол-во вошедших вещей."
   ]
  },
  {
   "cell_type": "code",
   "execution_count": 33,
   "metadata": {},
   "outputs": [
    {
     "name": "stdout",
     "output_type": "stream",
     "text": [
      "100\n"
     ]
    }
   ],
   "source": [
    "bag_space = int(input(\"space in bag\"))\n",
    "space_left = bag_space\n",
    "put_things = []"
   ]
  },
  {
   "cell_type": "code",
   "execution_count": 34,
   "metadata": {},
   "outputs": [
    {
     "name": "stdout",
     "output_type": "stream",
     "text": [
      "20 13 45 65 43 12 9 8 4 21\n"
     ]
    }
   ],
   "source": [
    "array_D = []\n",
    "things = map(int, (input(\"weigh of each thing\")).split())\n",
    "array_D.extend(things)"
   ]
  },
  {
   "cell_type": "code",
   "execution_count": 35,
   "metadata": {},
   "outputs": [
    {
     "name": "stdout",
     "output_type": "stream",
     "text": [
      "20 13 45 65 43 12 9 8 4 21\n"
     ]
    }
   ],
   "source": [
    "print(*array_D)"
   ]
  },
  {
   "cell_type": "code",
   "execution_count": 36,
   "metadata": {},
   "outputs": [
    {
     "name": "stdout",
     "output_type": "stream",
     "text": [
      "4 8 9 12 13 20 21 43 45 65\n"
     ]
    }
   ],
   "source": [
    "array_D.sort()\n",
    "print(*array_D)"
   ]
  },
  {
   "cell_type": "code",
   "execution_count": 37,
   "metadata": {},
   "outputs": [
    {
     "name": "stdout",
     "output_type": "stream",
     "text": [
      "4 8 9 12 13 20 21\n"
     ]
    }
   ],
   "source": [
    "for h in range(len(array_D)):\n",
    "    if array_D[h] <= space_left:\n",
    "        space_left -= array_D[h]\n",
    "        put_things.append(array_D[h])\n",
    "print(*put_things)"
   ]
  },
  {
   "cell_type": "code",
   "execution_count": null,
   "metadata": {},
   "outputs": [],
   "source": [
    "Данные об email-адресах студентов хранятся в словаре: {домен:логины} . Нужно дополнить код таким образом, чтобы он вывел все адреса в алфавитном порядке и в формате имя_пользователя@домен"
   ]
  },
  {
   "cell_type": "code",
   "execution_count": 32,
   "metadata": {},
   "outputs": [
    {
     "name": "stdout",
     "output_type": "stream",
     "text": [
      "domain mail.ru\n",
      "logins in this domain katya dima\n",
      "continue? / no yes\n",
      "domain gmail.com\n",
      "logins in this domain sonya kirill vanya\n",
      "continue? / no yes\n",
      "domain rea.ru\n",
      "logins in this domain mitya\n",
      "continue? / no no\n",
      " dima@mail.ru \n",
      " katya@mail.ru \n",
      " kirill@gmail.com \n",
      " mitya@rea.ru \n",
      " sonya@gmail.com \n",
      " vanya@gmail.com \n"
     ]
    }
   ],
   "source": [
    "dictionary = dict()\n",
    "while True:\n",
    "    domain = input(\"domain \")\n",
    "    logins = map(str, (input(\"logins in this domain \").split()))\n",
    "    array_logins = [i for i in logins]\n",
    "    dictionary[domain] = array_logins\n",
    "    if input(\"continue? / no \") == \"no\":\n",
    "        break\n",
    "emails =[]\n",
    "for domain in dictionary:\n",
    "    if len(dictionary[domain]) == 1:\n",
    "        email = (dictionary[domain][0] + \"@\" + domain)\n",
    "        emails.append(str(email))\n",
    "    else:    \n",
    "        for b in range(len(dictionary[domain])):\n",
    "            email = (dictionary[domain][b] + \"@\" + domain)\n",
    "            emails.append(str(email))\n",
    "emails.sort()\n",
    "for each in emails:\n",
    "    email_adress = \" \"\n",
    "    email_adress += str(each) + \" \"\n",
    "    print(email_adress)"
   ]
  }
 ],
 "metadata": {
  "kernelspec": {
   "display_name": "Python 3",
   "language": "python",
   "name": "python3"
  },
  "language_info": {
   "codemirror_mode": {
    "name": "ipython",
    "version": 3
   },
   "file_extension": ".py",
   "mimetype": "text/x-python",
   "name": "python",
   "nbconvert_exporter": "python",
   "pygments_lexer": "ipython3",
   "version": "3.8.3"
  }
 },
 "nbformat": 4,
 "nbformat_minor": 4
}
